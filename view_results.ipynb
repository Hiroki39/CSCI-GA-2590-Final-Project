{
 "cells": [
  {
   "cell_type": "code",
   "execution_count": 40,
   "metadata": {},
   "outputs": [],
   "source": [
    "import pandas as pd\n",
    "import numpy as np"
   ]
  },
  {
   "cell_type": "code",
   "execution_count": 41,
   "metadata": {},
   "outputs": [],
   "source": [
    "result_cot_general = pd.read_csv('experiment_results/gpt-turbo_multiarith_cot_general_8shot.csv', index_col=0)\n",
    "\n",
    "result_arith_general_new = pd.read_csv('experiment_results/gpt-turbo_multiarith_arithcot_general_8shot_new.csv', index_col=0)\n",
    "\n",
    "result_arith_general_old = pd.read_csv('experiment_results/gpt-turbo_multiarith_arithcot_general_8shot_old.csv', index_col=0)\n"
   ]
  },
  {
   "cell_type": "code",
   "execution_count": 42,
   "metadata": {},
   "outputs": [],
   "source": [
    "def acc(results):\n",
    "    return np.mean(results['answer'] == results['response_answer'])\n",
    "\n",
    "def missing(results):\n",
    "    np.sum(results['response_answer'].isnull())"
   ]
  },
  {
   "cell_type": "code",
   "execution_count": 43,
   "metadata": {},
   "outputs": [
    {
     "name": "stdout",
     "output_type": "stream",
     "text": [
      "0.975\n",
      "0.9483333333333334\n",
      "0.9483333333333334\n"
     ]
    }
   ],
   "source": [
    "print(acc(result_cot_general))\n",
    "print(acc(result_arith_general_old))\n",
    "print(acc(result_arith_general_new))"
   ]
  },
  {
   "attachments": {},
   "cell_type": "markdown",
   "metadata": {},
   "source": [
    "## Two different prompts"
   ]
  },
  {
   "cell_type": "code",
   "execution_count": 38,
   "metadata": {},
   "outputs": [],
   "source": [
    "result_arith_general_old.columns = [i + \"_old\" for i in result_arith_general_old.columns]"
   ]
  },
  {
   "cell_type": "code",
   "execution_count": 39,
   "metadata": {},
   "outputs": [],
   "source": [
    "c_arith_general = pd.concat([result_arith_general, result_arith_general_old], axis = 1)"
   ]
  },
  {
   "cell_type": "code",
   "execution_count": 42,
   "metadata": {},
   "outputs": [],
   "source": [
    "c_arith_general_errors = c_arith_general[['answer','response_answer','response_answer_old']]"
   ]
  },
  {
   "cell_type": "code",
   "execution_count": 46,
   "metadata": {},
   "outputs": [
    {
     "data": {
      "text/plain": [
       "question               87\n",
       "answer                 87\n",
       "response               87\n",
       "mapping                87\n",
       "response_answer        48\n",
       "equations              87\n",
       "question_old           87\n",
       "answer_old             87\n",
       "response_old           87\n",
       "mapping_old            87\n",
       "response_answer_old    54\n",
       "equations_old          87\n",
       "dtype: int64"
      ]
     },
     "execution_count": 46,
     "metadata": {},
     "output_type": "execute_result"
    }
   ],
   "source": [
    "c_arith_general[c_arith_general.response_answer != c_arith_general.response_answer_old].count()"
   ]
  },
  {
   "cell_type": "code",
   "execution_count": 51,
   "metadata": {},
   "outputs": [],
   "source": [
    "result_arith_general_old[result_arith_general_old['response_answer_old'].isnull()].to_csv('temp.csv')"
   ]
  },
  {
   "attachments": {},
   "cell_type": "markdown",
   "metadata": {},
   "source": [
    "## cot vs. arithcot"
   ]
  },
  {
   "cell_type": "code",
   "execution_count": 44,
   "metadata": {},
   "outputs": [],
   "source": [
    "result_arith_general_old.columns = [i + '_old' for i in result_arith_general_old.columns]"
   ]
  },
  {
   "cell_type": "code",
   "execution_count": 45,
   "metadata": {},
   "outputs": [],
   "source": [
    "result_arith_general_new.columns = [i + '_new' for i in result_arith_general_new.columns]"
   ]
  },
  {
   "cell_type": "code",
   "execution_count": 46,
   "metadata": {},
   "outputs": [],
   "source": [
    "cot_arithcot = pd.concat([result_cot_general, result_arith_general_old, result_arith_general_new], axis = 1)"
   ]
  },
  {
   "cell_type": "code",
   "execution_count": 47,
   "metadata": {},
   "outputs": [],
   "source": [
    "cot_arithcot.drop(columns = ['question_old', 'answer_old', 'question_new', 'answer_new'], inplace = True)"
   ]
  },
  {
   "cell_type": "code",
   "execution_count": 49,
   "metadata": {},
   "outputs": [],
   "source": [
    "cot_arithcot['median_answer'] = -1"
   ]
  },
  {
   "cell_type": "code",
   "execution_count": 65,
   "metadata": {},
   "outputs": [
    {
     "name": "stderr",
     "output_type": "stream",
     "text": [
      "<ipython-input-65-b9da98262b74>:7: SettingWithCopyWarning: \n",
      "A value is trying to be set on a copy of a slice from a DataFrame\n",
      "\n",
      "See the caveats in the documentation: https://pandas.pydata.org/pandas-docs/stable/user_guide/indexing.html#returning-a-view-versus-a-copy\n",
      "  cot_arithcot['median_answer'][i] = median_answer\n"
     ]
    }
   ],
   "source": [
    "for i in range(0,600):\n",
    "    a1 = cot_arithcot['response_answer'][i]\n",
    "    a2 = cot_arithcot['response_answer_new'][i]\n",
    "    a3 = cot_arithcot['response_answer_old'][i]\n",
    "\n",
    "    median_answer = np.nanmedian([a1,a2,a3])\n",
    "    cot_arithcot['median_answer'][i] = median_answer"
   ]
  },
  {
   "cell_type": "code",
   "execution_count": 66,
   "metadata": {},
   "outputs": [
    {
     "data": {
      "text/plain": [
       "0.9816666666666667"
      ]
     },
     "execution_count": 66,
     "metadata": {},
     "output_type": "execute_result"
    }
   ],
   "source": [
    "np.mean(cot_arithcot['answer'] == cot_arithcot['median_answer'])"
   ]
  },
  {
   "cell_type": "code",
   "execution_count": 67,
   "metadata": {},
   "outputs": [],
   "source": [
    "changes = pd.DataFrame(cot_arithcot)\n",
    "\n",
    "for i in range(0,600):\n",
    "    if(changes['answer'][i] != changes['response_answer'][i] or\n",
    "       changes['answer'][i] != changes['response_answer_new'][i] or\n",
    "       changes['answer'][i] != changes['response_answer_old'][i]):\n",
    "        pass\n",
    "    else:\n",
    "        changes.drop(index = i, inplace=True)\n"
   ]
  },
  {
   "cell_type": "code",
   "execution_count": 68,
   "metadata": {},
   "outputs": [],
   "source": [
    "changes = changes[[\"question\", \"answer\", 'median_answer',\"response_answer\", \"response_answer_old\",\"response_answer_new\", \"mapping_old\", \"response\",\"response_answer_old\",\"response_old\",\"response_new\"]]"
   ]
  },
  {
   "cell_type": "code",
   "execution_count": 69,
   "metadata": {},
   "outputs": [],
   "source": [
    "changes.to_csv(\"temp.csv\")\n"
   ]
  },
  {
   "cell_type": "code",
   "execution_count": null,
   "metadata": {},
   "outputs": [],
   "source": []
  }
 ],
 "metadata": {
  "kernelspec": {
   "display_name": "base",
   "language": "python",
   "name": "python3"
  },
  "language_info": {
   "codemirror_mode": {
    "name": "ipython",
    "version": 3
   },
   "file_extension": ".py",
   "mimetype": "text/x-python",
   "name": "python",
   "nbconvert_exporter": "python",
   "pygments_lexer": "ipython3",
   "version": "3.8.8"
  },
  "orig_nbformat": 4
 },
 "nbformat": 4,
 "nbformat_minor": 2
}
