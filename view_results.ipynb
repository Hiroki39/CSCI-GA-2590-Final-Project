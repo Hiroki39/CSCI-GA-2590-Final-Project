{
 "cells": [
  {
   "cell_type": "code",
   "execution_count": 2,
   "metadata": {},
   "outputs": [],
   "source": [
    "import pandas as pd\n",
    "import numpy as np"
   ]
  },
  {
   "cell_type": "code",
   "execution_count": 6,
   "metadata": {},
   "outputs": [],
   "source": [
    "result_cot_general = pd.read_csv('experiment_results/gpt-turbo_multiarith_cot_general_8shot.csv', index_col=0)\n",
    "\n",
    "result_arith_general = pd.read_csv('experiment_results/gpt-turbo_multiarith_arithcot_general_8shot.csv', index_col=0)\n",
    "\n",
    "result_varcot_general =pd.read_csv('experiment_results/gpt-turbo_multiarith_varcot_general_8shot.csv', index_col=0)\n",
    "\n",
    "result_cot_generalnum = pd.read_csv('experiment_results/gpt-turbo_mulriarith_cot_generalnum_8shot.csv', index_col=0)\n"
   ]
  },
  {
   "cell_type": "code",
   "execution_count": 3,
   "metadata": {},
   "outputs": [],
   "source": [
    "def acc(results):\n",
    "    return np.mean(results['answer'] == results['response_answer'])\n",
    "\n",
    "def missing(results):\n",
    "    np.sum(results['response_answer'].isnull())"
   ]
  },
  {
   "cell_type": "code",
   "execution_count": 8,
   "metadata": {},
   "outputs": [
    {
     "name": "stdout",
     "output_type": "stream",
     "text": [
      "0.98\n",
      "0.9483333333333334\n",
      "0.98\n",
      "0.97\n"
     ]
    }
   ],
   "source": [
    "print(acc(result_cot_general))\n",
    "print(acc(result_arith_general))\n",
    "print(acc(result_varcot_general))\n",
    "print(acc(result_cot_generalnum))"
   ]
  },
  {
   "attachments": {},
   "cell_type": "markdown",
   "metadata": {},
   "source": [
    "## cot vs. varcot vs. arithcot"
   ]
  },
  {
   "cell_type": "code",
   "execution_count": 26,
   "metadata": {},
   "outputs": [],
   "source": [
    "result_arith_general.columns = [i + '_arith' for i in result_arith_general.columns]"
   ]
  },
  {
   "cell_type": "code",
   "execution_count": 27,
   "metadata": {},
   "outputs": [],
   "source": [
    "result_varcot_general.columns = [i + '_var' for i in result_varcot_general.columns]"
   ]
  },
  {
   "cell_type": "code",
   "execution_count": 28,
   "metadata": {},
   "outputs": [],
   "source": [
    "cot_arithcot = pd.concat([result_cot_general, result_arith_general, result_varcot_general], axis = 1)"
   ]
  },
  {
   "cell_type": "code",
   "execution_count": 29,
   "metadata": {},
   "outputs": [],
   "source": [
    "cot_arithcot.drop(columns = ['question_arith', 'answer_arith', 'question_var', 'answer_var'], inplace = True)"
   ]
  },
  {
   "cell_type": "code",
   "execution_count": 30,
   "metadata": {},
   "outputs": [],
   "source": [
    "cot_arithcot['median_answer'] = -1"
   ]
  },
  {
   "cell_type": "code",
   "execution_count": 31,
   "metadata": {},
   "outputs": [
    {
     "name": "stderr",
     "output_type": "stream",
     "text": [
      "C:\\Users\\andyw\\AppData\\Local\\Temp\\ipykernel_33864\\769570786.py:7: SettingWithCopyWarning: \n",
      "A value is trying to be set on a copy of a slice from a DataFrame\n",
      "\n",
      "See the caveats in the documentation: https://pandas.pydata.org/pandas-docs/stable/user_guide/indexing.html#returning-a-view-versus-a-copy\n",
      "  cot_arithcot['median_answer'][i] = median_answer\n"
     ]
    }
   ],
   "source": [
    "for i in range(0,600):\n",
    "    a1 = cot_arithcot['response_answer'][i]\n",
    "    a2 = cot_arithcot['response_answer_arith'][i]\n",
    "    a3 = cot_arithcot['response_answer_var'][i]\n",
    "\n",
    "    median_answer = np.nanmedian([a1,a2,a3])\n",
    "    cot_arithcot['median_answer'][i] = median_answer"
   ]
  },
  {
   "cell_type": "code",
   "execution_count": 32,
   "metadata": {},
   "outputs": [
    {
     "data": {
      "text/plain": [
       "0.9933333333333333"
      ]
     },
     "execution_count": 32,
     "metadata": {},
     "output_type": "execute_result"
    }
   ],
   "source": [
    "np.mean(cot_arithcot['answer'] == cot_arithcot['median_answer'])"
   ]
  },
  {
   "cell_type": "code",
   "execution_count": 33,
   "metadata": {},
   "outputs": [],
   "source": [
    "changes = pd.DataFrame(cot_arithcot)\n",
    "\n",
    "for i in range(0,600):\n",
    "    if(changes['answer'][i] != changes['response_answer'][i] or\n",
    "       changes['answer'][i] != changes['response_answer_arith'][i] or\n",
    "       changes['answer'][i] != changes['response_answer_var'][i]):\n",
    "        pass\n",
    "    else:\n",
    "        changes.drop(index = i, inplace=True)\n"
   ]
  },
  {
   "cell_type": "code",
   "execution_count": 36,
   "metadata": {},
   "outputs": [],
   "source": [
    "changes = changes[[\"question\", \"answer\", 'median_answer',\"response_answer\", \"response_answer_arith\",\"response_answer_var\", \"mapping_arith\", \"response\",\"response_arith\",\"response_var\"]]"
   ]
  },
  {
   "cell_type": "code",
   "execution_count": 37,
   "metadata": {},
   "outputs": [],
   "source": [
    "changes.to_csv(\"error_multiarith.csv\")\n"
   ]
  },
  {
   "attachments": {},
   "cell_type": "markdown",
   "metadata": {},
   "source": [
    "## GPT 3"
   ]
  },
  {
   "cell_type": "code",
   "execution_count": 4,
   "metadata": {},
   "outputs": [],
   "source": [
    "result_arith_general_gpt3 = pd.read_csv('experiment_results/gpt3_multiarith_arithcot_general_8shot.csv', index_col=0)\n",
    "\n",
    "result_varcot_general_gpt3 =pd.read_csv('experiment_results/gpt3_multiarith_varcot_general_8shot.csv', index_col=0)\n",
    "\n",
    "result_cot_general_gpt3 = pd.read_csv('experiment_results/gpt3_multiarith_cot_general_8shot.csv', index_col=0)"
   ]
  },
  {
   "cell_type": "code",
   "execution_count": 5,
   "metadata": {},
   "outputs": [],
   "source": [
    "result_arith_general_gpt3['answer'] = [float(i[1:-1]) for i in result_arith_general_gpt3['answer']]"
   ]
  },
  {
   "cell_type": "code",
   "execution_count": 7,
   "metadata": {},
   "outputs": [
    {
     "name": "stdout",
     "output_type": "stream",
     "text": [
      "0.8466666666666667\n",
      "0.8683333333333333\n",
      "0.9083333333333333\n"
     ]
    }
   ],
   "source": [
    "print(acc(result_cot_general_gpt3))\n",
    "\n",
    "print(acc(result_arith_general_gpt3))\n",
    "\n",
    "print(acc(result_varcot_general_gpt3))"
   ]
  }
 ],
 "metadata": {
  "kernelspec": {
   "display_name": "base",
   "language": "python",
   "name": "python3"
  },
  "language_info": {
   "codemirror_mode": {
    "name": "ipython",
    "version": 3
   },
   "file_extension": ".py",
   "mimetype": "text/x-python",
   "name": "python",
   "nbconvert_exporter": "python",
   "pygments_lexer": "ipython3",
   "version": "3.9.13"
  },
  "orig_nbformat": 4
 },
 "nbformat": 4,
 "nbformat_minor": 2
}
