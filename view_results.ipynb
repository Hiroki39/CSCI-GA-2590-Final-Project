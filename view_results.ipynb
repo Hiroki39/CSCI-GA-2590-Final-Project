{
 "cells": [
  {
   "cell_type": "code",
   "execution_count": 2,
   "metadata": {},
   "outputs": [],
   "source": [
    "import pandas as pd\n",
    "import numpy as np"
   ]
  },
  {
   "cell_type": "code",
   "execution_count": 3,
   "metadata": {},
   "outputs": [],
   "source": [
    "def acc(results):\n",
    "    return np.mean(results['answer'] == results['response_answer'])\n",
    "\n",
    "def missing(results):\n",
    "    np.sum(results['response_answer'].isnull())\n",
    "\n",
    "def read_file(prompt, shots, model = 'gpt-turbo', promptset = 'general'):\n",
    "    filename = 'experiment_results/'+'_'.join([model, prompt, promptset, str(shots)]) + 'shot.csv'\n",
    "    return pd.read_csv(filename)"
   ]
  },
  {
   "attachments": {},
   "cell_type": "markdown",
   "metadata": {},
   "source": [
    "## Main"
   ]
  },
  {
   "cell_type": "code",
   "execution_count": 3,
   "metadata": {},
   "outputs": [],
   "source": [
    "cot_general = {}\n",
    "varcot_general = {}\n",
    "\n",
    "for i in [2,4,8]:\n",
    "    cot_general[i] = read_file('cot',i)\n",
    "    varcot_general[i] = read_file('varcot',i)"
   ]
  },
  {
   "cell_type": "code",
   "execution_count": 4,
   "metadata": {},
   "outputs": [
    {
     "name": "stdout",
     "output_type": "stream",
     "text": [
      "2\n",
      "0.9833333333333333\n",
      "0.9883333333333333\n",
      "4\n",
      "0.98\n",
      "0.99\n",
      "8\n",
      "0.9816666666666667\n",
      "0.9883333333333333\n"
     ]
    }
   ],
   "source": [
    "for i in [2,4,8]:\n",
    "    print(i)\n",
    "    print(acc(cot_general[i]))\n",
    "    print(acc(varcot_general[i]))"
   ]
  },
  {
   "attachments": {},
   "cell_type": "markdown",
   "metadata": {},
   "source": [
    "## Other"
   ]
  },
  {
   "cell_type": "code",
   "execution_count": 4,
   "metadata": {},
   "outputs": [],
   "source": [
    "cot = pd.read_csv('experiment_results/gpt3_cot_general_8shot.csv')\n",
    "varcot = pd.read_csv('experiment_results/gpt3_varcot_general_8shot.csv')\n",
    "cot = pd.read_csv('experiment_results/gpt3_cot_general_2shot.csv')\n",
    "varcot = pd.read_csv('experiment_results/gpt3_varcot_general_2shot.csv')"
   ]
  },
  {
   "cell_type": "code",
   "execution_count": 5,
   "metadata": {},
   "outputs": [
    {
     "name": "stdout",
     "output_type": "stream",
     "text": [
      "0.7516666666666667\n",
      "0.855\n"
     ]
    }
   ],
   "source": [
    "print(acc(cot))\n",
    "print(acc(varcot))"
   ]
  },
  {
   "cell_type": "code",
   "execution_count": null,
   "metadata": {},
   "outputs": [],
   "source": []
  }
 ],
 "metadata": {
  "kernelspec": {
   "display_name": "base",
   "language": "python",
   "name": "python3"
  },
  "language_info": {
   "codemirror_mode": {
    "name": "ipython",
    "version": 3
   },
   "file_extension": ".py",
   "mimetype": "text/x-python",
   "name": "python",
   "nbconvert_exporter": "python",
   "pygments_lexer": "ipython3",
   "version": "3.9.13"
  },
  "orig_nbformat": 4
 },
 "nbformat": 4,
 "nbformat_minor": 2
}
