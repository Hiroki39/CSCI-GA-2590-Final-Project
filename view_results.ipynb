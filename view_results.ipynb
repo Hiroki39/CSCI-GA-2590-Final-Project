{
 "cells": [
  {
   "cell_type": "code",
   "execution_count": 7,
   "metadata": {},
   "outputs": [],
   "source": [
    "import pandas as pd\n",
    "import numpy as np"
   ]
  },
  {
   "cell_type": "code",
   "execution_count": 26,
   "metadata": {},
   "outputs": [],
   "source": [
    "result_cot_general = pd.read_csv('experiment_results/gpt-turbo_multiarith_cot_general_8shot.csv', index_col=0)\n",
    "\n",
    "result_arith_general = pd.read_csv('experiment_results/gpt-turbo_multiarith_arithcot_general_8shot.csv', index_col=0)\n",
    "result_arith_multi = pd.read_csv('experiment_results/gpt-turbo_multiarith_arithcot_multiarith_8shot.csv', index_col=0)\n",
    "\n",
    "result_arith_general_old = pd.read_csv('experiment_results/old/gpt-turbo_multiarith_arithcot_general_8shot.csv', index_col=0)\n",
    "result_arith_multi_old = pd.read_csv('experiment_results/old/gpt-turbo_multiarith_arithcot_multiarith_8shot.csv', index_col=0)"
   ]
  },
  {
   "cell_type": "code",
   "execution_count": 27,
   "metadata": {},
   "outputs": [],
   "source": [
    "def acc(results):\n",
    "    return np.mean(results['answer'] == results['response_answer'])\n",
    "\n",
    "def missing(results):\n",
    "    np.sum(results['response_answer'].isnull())"
   ]
  },
  {
   "cell_type": "code",
   "execution_count": 28,
   "metadata": {},
   "outputs": [
    {
     "name": "stdout",
     "output_type": "stream",
     "text": [
      "0.975\n",
      "0.8983333333333333\n",
      "0.965\n",
      "0.9116666666666666\n",
      "0.965\n"
     ]
    }
   ],
   "source": [
    "print(acc(result_cot_general))\n",
    "print(acc(result_arith_general))\n",
    "print(acc(result_arith_multi))\n",
    "print(acc(result_arith_general_old))\n",
    "print(acc(result_arith_multi_old))"
   ]
  },
  {
   "cell_type": "code",
   "execution_count": 29,
   "metadata": {},
   "outputs": [
    {
     "name": "stdout",
     "output_type": "stream",
     "text": [
      "39\n",
      "15\n",
      "33\n",
      "6\n"
     ]
    }
   ],
   "source": [
    "print(np.sum(result_arith_general['response_answer'].isnull()))\n",
    "print(np.sum(result_arith_multi['response_answer'].isnull()))\n",
    "print(np.sum(result_arith_general_old['response_answer'].isnull()))\n",
    "print(np.sum(result_arith_multi_old['response_answer'].isnull()))"
   ]
  },
  {
   "attachments": {},
   "cell_type": "markdown",
   "metadata": {},
   "source": [
    "## Two different prompts"
   ]
  },
  {
   "cell_type": "code",
   "execution_count": 38,
   "metadata": {},
   "outputs": [],
   "source": [
    "result_arith_general_old.columns = [i + \"_old\" for i in result_arith_general_old.columns]"
   ]
  },
  {
   "cell_type": "code",
   "execution_count": 39,
   "metadata": {},
   "outputs": [],
   "source": [
    "c_arith_general = pd.concat([result_arith_general, result_arith_general_old], axis = 1)"
   ]
  },
  {
   "cell_type": "code",
   "execution_count": 42,
   "metadata": {},
   "outputs": [],
   "source": [
    "c_arith_general_errors = c_arith_general[['answer','response_answer','response_answer_old']]"
   ]
  },
  {
   "cell_type": "code",
   "execution_count": 46,
   "metadata": {},
   "outputs": [
    {
     "data": {
      "text/plain": [
       "question               87\n",
       "answer                 87\n",
       "response               87\n",
       "mapping                87\n",
       "response_answer        48\n",
       "equations              87\n",
       "question_old           87\n",
       "answer_old             87\n",
       "response_old           87\n",
       "mapping_old            87\n",
       "response_answer_old    54\n",
       "equations_old          87\n",
       "dtype: int64"
      ]
     },
     "execution_count": 46,
     "metadata": {},
     "output_type": "execute_result"
    }
   ],
   "source": [
    "c_arith_general[c_arith_general.response_answer != c_arith_general.response_answer_old].count()"
   ]
  },
  {
   "cell_type": "code",
   "execution_count": 51,
   "metadata": {},
   "outputs": [],
   "source": [
    "result_arith_general_old[result_arith_general_old['response_answer_old'].isnull()].to_csv('temp.csv')"
   ]
  },
  {
   "cell_type": "code",
   "execution_count": null,
   "metadata": {},
   "outputs": [],
   "source": []
  }
 ],
 "metadata": {
  "kernelspec": {
   "display_name": "base",
   "language": "python",
   "name": "python3"
  },
  "language_info": {
   "codemirror_mode": {
    "name": "ipython",
    "version": 3
   },
   "file_extension": ".py",
   "mimetype": "text/x-python",
   "name": "python",
   "nbconvert_exporter": "python",
   "pygments_lexer": "ipython3",
   "version": "3.9.13"
  },
  "orig_nbformat": 4
 },
 "nbformat": 4,
 "nbformat_minor": 2
}
